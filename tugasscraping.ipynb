{
 "cells": [
  {
   "cell_type": "code",
   "execution_count": null,
   "metadata": {},
   "outputs": [],
   "source": [
    "Nama : Hizkia Marvel Abinaya\n",
    "Nim : 23031554061\n",
    "Kelas : Pemrosesan Teks 2023"
   ]
  },
  {
   "cell_type": "code",
   "execution_count": 20,
   "metadata": {},
   "outputs": [],
   "source": [
    "import requests\n",
    "from bs4 import BeautifulSoup"
   ]
  },
  {
   "cell_type": "code",
   "execution_count": 47,
   "metadata": {},
   "outputs": [],
   "source": [
    "root = 'https://myanimelist.net/topanime.php?limit='\n",
    "\n",
    "title = []\n",
    "description = []\n",
    "links = []\n",
    "\n",
    "for page in range(0, 2):\n",
    "  url = requests.get(root + str(page * 50))\n",
    "  soup = BeautifulSoup(url.text, 'html.parser')\n",
    "\n",
    "  for q in soup.find_all(\"div\", {\"class\":\"detail\"}):\n",
    "    title.append(q.find(\"h3\", {\"class\":\"fl-l fs14 fw-b anime_ranking_h3\"}).text)\n",
    "    \n",
    "    link_tag = q.find(\"h3\", {\"class\": \"fl-l fs14 fw-b anime_ranking_h3\"}).find('a')\n",
    "    if link_tag and 'href' in link_tag.attrs:\n",
    "      links.append(link_tag['href'])\n",
    "\n",
    "  for a in soup.find_all(\"div\", {\"class\":\"detail\"}):\n",
    "    description.append(a.find(\"div\", {\"class\":\"information di-ib mt4\"}).text)"
   ]
  },
  {
   "cell_type": "code",
   "execution_count": 48,
   "metadata": {},
   "outputs": [
    {
     "data": {
      "text/plain": [
       "(100, 100, 100)"
      ]
     },
     "execution_count": 48,
     "metadata": {},
     "output_type": "execute_result"
    }
   ],
   "source": [
    "len(title), len(description), len(links)"
   ]
  },
  {
   "cell_type": "code",
   "execution_count": 49,
   "metadata": {},
   "outputs": [
    {
     "data": {
      "text/html": [
       "<div>\n",
       "<style scoped>\n",
       "    .dataframe tbody tr th:only-of-type {\n",
       "        vertical-align: middle;\n",
       "    }\n",
       "\n",
       "    .dataframe tbody tr th {\n",
       "        vertical-align: top;\n",
       "    }\n",
       "\n",
       "    .dataframe thead th {\n",
       "        text-align: right;\n",
       "    }\n",
       "</style>\n",
       "<table border=\"1\" class=\"dataframe\">\n",
       "  <thead>\n",
       "    <tr style=\"text-align: right;\">\n",
       "      <th></th>\n",
       "      <th>Judul Anime</th>\n",
       "      <th>Deskripsi</th>\n",
       "      <th>Link</th>\n",
       "    </tr>\n",
       "  </thead>\n",
       "  <tbody>\n",
       "    <tr>\n",
       "      <th>0</th>\n",
       "      <td>Sousou no Frieren</td>\n",
       "      <td>\\n        TV (28 eps)\\n        Sep 2023 - Mar ...</td>\n",
       "      <td>https://myanimelist.net/anime/52991/Sousou_no_...</td>\n",
       "    </tr>\n",
       "    <tr>\n",
       "      <th>1</th>\n",
       "      <td>Fullmetal Alchemist: Brotherhood</td>\n",
       "      <td>\\n        TV (64 eps)\\n        Apr 2009 - Jul ...</td>\n",
       "      <td>https://myanimelist.net/anime/5114/Fullmetal_A...</td>\n",
       "    </tr>\n",
       "    <tr>\n",
       "      <th>2</th>\n",
       "      <td>Steins;Gate</td>\n",
       "      <td>\\n        TV (24 eps)\\n        Apr 2011 - Sep ...</td>\n",
       "      <td>https://myanimelist.net/anime/9253/Steins_Gate</td>\n",
       "    </tr>\n",
       "    <tr>\n",
       "      <th>3</th>\n",
       "      <td>Gintama°</td>\n",
       "      <td>\\n        TV (51 eps)\\n        Apr 2015 - Mar ...</td>\n",
       "      <td>https://myanimelist.net/anime/28977/Gintama°</td>\n",
       "    </tr>\n",
       "    <tr>\n",
       "      <th>4</th>\n",
       "      <td>Shingeki no Kyojin Season 3 Part 2</td>\n",
       "      <td>\\n        TV (10 eps)\\n        Apr 2019 - Jul ...</td>\n",
       "      <td>https://myanimelist.net/anime/38524/Shingeki_n...</td>\n",
       "    </tr>\n",
       "    <tr>\n",
       "      <th>...</th>\n",
       "      <td>...</td>\n",
       "      <td>...</td>\n",
       "      <td>...</td>\n",
       "    </tr>\n",
       "    <tr>\n",
       "      <th>95</th>\n",
       "      <td>Mushishi Zoku Shou: Suzu no Shizuku</td>\n",
       "      <td>\\n        Movie (1 eps)\\n        May 2015 - Ma...</td>\n",
       "      <td>https://myanimelist.net/anime/28957/Mushishi_Z...</td>\n",
       "    </tr>\n",
       "    <tr>\n",
       "      <th>96</th>\n",
       "      <td>Seishun Buta Yarou wa Yumemiru Shoujo no Yume ...</td>\n",
       "      <td>\\n        Movie (1 eps)\\n        Jun 2019 - Ju...</td>\n",
       "      <td>https://myanimelist.net/anime/38329/Seishun_Bu...</td>\n",
       "    </tr>\n",
       "    <tr>\n",
       "      <th>97</th>\n",
       "      <td>JoJo no Kimyou na Bouken Part 5: Ougon no Kaze</td>\n",
       "      <td>\\n        TV (39 eps)\\n        Oct 2018 - Jul ...</td>\n",
       "      <td>https://myanimelist.net/anime/37991/JoJo_no_Ki...</td>\n",
       "    </tr>\n",
       "    <tr>\n",
       "      <th>98</th>\n",
       "      <td>Jujutsu Kaisen</td>\n",
       "      <td>\\n        TV (24 eps)\\n        Oct 2020 - Mar ...</td>\n",
       "      <td>https://myanimelist.net/anime/40748/Jujutsu_Ka...</td>\n",
       "    </tr>\n",
       "    <tr>\n",
       "      <th>99</th>\n",
       "      <td>Kimi ni Todoke 3rd Season</td>\n",
       "      <td>\\n        ONA (5 eps)\\n        Aug 2024 - Aug ...</td>\n",
       "      <td>https://myanimelist.net/anime/56538/Kimi_ni_To...</td>\n",
       "    </tr>\n",
       "  </tbody>\n",
       "</table>\n",
       "<p>100 rows × 3 columns</p>\n",
       "</div>"
      ],
      "text/plain": [
       "                                          Judul Anime  \\\n",
       "0                                   Sousou no Frieren   \n",
       "1                    Fullmetal Alchemist: Brotherhood   \n",
       "2                                         Steins;Gate   \n",
       "3                                            Gintama°   \n",
       "4                  Shingeki no Kyojin Season 3 Part 2   \n",
       "..                                                ...   \n",
       "95                Mushishi Zoku Shou: Suzu no Shizuku   \n",
       "96  Seishun Buta Yarou wa Yumemiru Shoujo no Yume ...   \n",
       "97     JoJo no Kimyou na Bouken Part 5: Ougon no Kaze   \n",
       "98                                     Jujutsu Kaisen   \n",
       "99                          Kimi ni Todoke 3rd Season   \n",
       "\n",
       "                                            Deskripsi  \\\n",
       "0   \\n        TV (28 eps)\\n        Sep 2023 - Mar ...   \n",
       "1   \\n        TV (64 eps)\\n        Apr 2009 - Jul ...   \n",
       "2   \\n        TV (24 eps)\\n        Apr 2011 - Sep ...   \n",
       "3   \\n        TV (51 eps)\\n        Apr 2015 - Mar ...   \n",
       "4   \\n        TV (10 eps)\\n        Apr 2019 - Jul ...   \n",
       "..                                                ...   \n",
       "95  \\n        Movie (1 eps)\\n        May 2015 - Ma...   \n",
       "96  \\n        Movie (1 eps)\\n        Jun 2019 - Ju...   \n",
       "97  \\n        TV (39 eps)\\n        Oct 2018 - Jul ...   \n",
       "98  \\n        TV (24 eps)\\n        Oct 2020 - Mar ...   \n",
       "99  \\n        ONA (5 eps)\\n        Aug 2024 - Aug ...   \n",
       "\n",
       "                                                 Link  \n",
       "0   https://myanimelist.net/anime/52991/Sousou_no_...  \n",
       "1   https://myanimelist.net/anime/5114/Fullmetal_A...  \n",
       "2      https://myanimelist.net/anime/9253/Steins_Gate  \n",
       "3        https://myanimelist.net/anime/28977/Gintama°  \n",
       "4   https://myanimelist.net/anime/38524/Shingeki_n...  \n",
       "..                                                ...  \n",
       "95  https://myanimelist.net/anime/28957/Mushishi_Z...  \n",
       "96  https://myanimelist.net/anime/38329/Seishun_Bu...  \n",
       "97  https://myanimelist.net/anime/37991/JoJo_no_Ki...  \n",
       "98  https://myanimelist.net/anime/40748/Jujutsu_Ka...  \n",
       "99  https://myanimelist.net/anime/56538/Kimi_ni_To...  \n",
       "\n",
       "[100 rows x 3 columns]"
      ]
     },
     "execution_count": 49,
     "metadata": {},
     "output_type": "execute_result"
    }
   ],
   "source": [
    "import pandas as pd\n",
    "df = pd.DataFrame(\n",
    "    {'Judul Anime':title,\n",
    "     'Deskripsi':description,\n",
    "     'Link':links\n",
    "     })\n",
    "df.head(100)"
   ]
  }
 ],
 "metadata": {
  "kernelspec": {
   "display_name": "Python 3",
   "language": "python",
   "name": "python3"
  },
  "language_info": {
   "codemirror_mode": {
    "name": "ipython",
    "version": 3
   },
   "file_extension": ".py",
   "mimetype": "text/x-python",
   "name": "python",
   "nbconvert_exporter": "python",
   "pygments_lexer": "ipython3",
   "version": "3.10.11"
  }
 },
 "nbformat": 4,
 "nbformat_minor": 2
}
